{
 "cells": [
  {
   "cell_type": "markdown",
   "id": "302d68eb",
   "metadata": {},
   "source": [
    "## Group Project\n",
    "#### Group 1: Eric Chen, Eli Guo, Johanne Xiong, Jijin Xu, Shuhan Zhang, Longxiang Zheng"
   ]
  },
  {
   "cell_type": "markdown",
   "id": "aaf728da",
   "metadata": {},
   "source": [
    "### Import Libraries and Functions"
   ]
  },
  {
   "cell_type": "code",
   "execution_count": 1,
   "id": "7b2619ed",
   "metadata": {},
   "outputs": [],
   "source": [
    "import numpy as np\n",
    "import pandas as pd\n",
    "import matplotlib.pyplot as plt\n",
    "import functions"
   ]
  },
  {
   "cell_type": "markdown",
   "id": "8f2bf703",
   "metadata": {},
   "source": [
    "### Read Data"
   ]
  },
  {
   "cell_type": "code",
   "execution_count": 2,
   "id": "de597f65",
   "metadata": {},
   "outputs": [],
   "source": [
    "left_df = pd.read_csv('left_dataset.csv')\n",
    "right_df = pd.read_csv('right_dataset.csv')"
   ]
  },
  {
   "cell_type": "code",
   "execution_count": 3,
   "id": "8de5f18c",
   "metadata": {},
   "outputs": [
    {
     "data": {
      "text/html": [
       "<div>\n",
       "<style scoped>\n",
       "    .dataframe tbody tr th:only-of-type {\n",
       "        vertical-align: middle;\n",
       "    }\n",
       "\n",
       "    .dataframe tbody tr th {\n",
       "        vertical-align: top;\n",
       "    }\n",
       "\n",
       "    .dataframe thead th {\n",
       "        text-align: right;\n",
       "    }\n",
       "</style>\n",
       "<table border=\"1\" class=\"dataframe\">\n",
       "  <thead>\n",
       "    <tr style=\"text-align: right;\">\n",
       "      <th></th>\n",
       "      <th>entity_id</th>\n",
       "      <th>name</th>\n",
       "      <th>address</th>\n",
       "      <th>city</th>\n",
       "      <th>state</th>\n",
       "      <th>postal_code</th>\n",
       "      <th>categories</th>\n",
       "    </tr>\n",
       "  </thead>\n",
       "  <tbody>\n",
       "    <tr>\n",
       "      <th>0</th>\n",
       "      <td>1</td>\n",
       "      <td>The UPS Store</td>\n",
       "      <td>87 Grasso Plaza Shopping Center</td>\n",
       "      <td>Affton</td>\n",
       "      <td>MO</td>\n",
       "      <td>63123.0</td>\n",
       "      <td>Shipping Centers, Local Services, Notaries, Ma...</td>\n",
       "    </tr>\n",
       "    <tr>\n",
       "      <th>1</th>\n",
       "      <td>2</td>\n",
       "      <td>St Honore Pastries</td>\n",
       "      <td>935 Race St</td>\n",
       "      <td>Philadelphia</td>\n",
       "      <td>PA</td>\n",
       "      <td>19107.0</td>\n",
       "      <td>Restaurants, Food, Bubble Tea, Coffee &amp; Tea, B...</td>\n",
       "    </tr>\n",
       "    <tr>\n",
       "      <th>2</th>\n",
       "      <td>3</td>\n",
       "      <td>Perkiomen Valley Brewery</td>\n",
       "      <td>101 Walnut St</td>\n",
       "      <td>Green Lane</td>\n",
       "      <td>PA</td>\n",
       "      <td>18054.0</td>\n",
       "      <td>Brewpubs, Breweries, Food</td>\n",
       "    </tr>\n",
       "    <tr>\n",
       "      <th>3</th>\n",
       "      <td>4</td>\n",
       "      <td>Sonic Drive-In</td>\n",
       "      <td>615 S Main St</td>\n",
       "      <td>Ashland City</td>\n",
       "      <td>TN</td>\n",
       "      <td>37015.0</td>\n",
       "      <td>Burgers, Fast Food, Sandwiches, Food, Ice Crea...</td>\n",
       "    </tr>\n",
       "    <tr>\n",
       "      <th>4</th>\n",
       "      <td>5</td>\n",
       "      <td>Famous Footwear</td>\n",
       "      <td>8522 Eager Road, Dierbergs Brentwood Point</td>\n",
       "      <td>Brentwood</td>\n",
       "      <td>MO</td>\n",
       "      <td>63144.0</td>\n",
       "      <td>Sporting Goods, Fashion, Shoe Stores, Shopping...</td>\n",
       "    </tr>\n",
       "  </tbody>\n",
       "</table>\n",
       "</div>"
      ],
      "text/plain": [
       "   entity_id                      name   \n",
       "0          1             The UPS Store  \\\n",
       "1          2        St Honore Pastries   \n",
       "2          3  Perkiomen Valley Brewery   \n",
       "3          4            Sonic Drive-In   \n",
       "4          5           Famous Footwear   \n",
       "\n",
       "                                      address          city state   \n",
       "0             87 Grasso Plaza Shopping Center        Affton    MO  \\\n",
       "1                                 935 Race St  Philadelphia    PA   \n",
       "2                               101 Walnut St    Green Lane    PA   \n",
       "3                               615 S Main St  Ashland City    TN   \n",
       "4  8522 Eager Road, Dierbergs Brentwood Point     Brentwood    MO   \n",
       "\n",
       "   postal_code                                         categories  \n",
       "0      63123.0  Shipping Centers, Local Services, Notaries, Ma...  \n",
       "1      19107.0  Restaurants, Food, Bubble Tea, Coffee & Tea, B...  \n",
       "2      18054.0                          Brewpubs, Breweries, Food  \n",
       "3      37015.0  Burgers, Fast Food, Sandwiches, Food, Ice Crea...  \n",
       "4      63144.0  Sporting Goods, Fashion, Shoe Stores, Shopping...  "
      ]
     },
     "execution_count": 3,
     "metadata": {},
     "output_type": "execute_result"
    }
   ],
   "source": [
    "left_df.head()"
   ]
  },
  {
   "cell_type": "code",
   "execution_count": 4,
   "id": "be6bef71",
   "metadata": {},
   "outputs": [
    {
     "data": {
      "text/html": [
       "<div>\n",
       "<style scoped>\n",
       "    .dataframe tbody tr th:only-of-type {\n",
       "        vertical-align: middle;\n",
       "    }\n",
       "\n",
       "    .dataframe tbody tr th {\n",
       "        vertical-align: top;\n",
       "    }\n",
       "\n",
       "    .dataframe thead th {\n",
       "        text-align: right;\n",
       "    }\n",
       "</style>\n",
       "<table border=\"1\" class=\"dataframe\">\n",
       "  <thead>\n",
       "    <tr style=\"text-align: right;\">\n",
       "      <th></th>\n",
       "      <th>business_id</th>\n",
       "      <th>name</th>\n",
       "      <th>address</th>\n",
       "      <th>city</th>\n",
       "      <th>state</th>\n",
       "      <th>zip_code</th>\n",
       "      <th>size</th>\n",
       "    </tr>\n",
       "  </thead>\n",
       "  <tbody>\n",
       "    <tr>\n",
       "      <th>0</th>\n",
       "      <td>1</td>\n",
       "      <td>SOURINI PAINTING INC.</td>\n",
       "      <td>12800 44th St N</td>\n",
       "      <td>Clearwater</td>\n",
       "      <td>FL</td>\n",
       "      <td>33762-4726</td>\n",
       "      <td>11.0</td>\n",
       "    </tr>\n",
       "    <tr>\n",
       "      <th>1</th>\n",
       "      <td>2</td>\n",
       "      <td>WOLFF DOLLA BILL LLC</td>\n",
       "      <td>1905 E 19th Ave</td>\n",
       "      <td>Tampa</td>\n",
       "      <td>FL</td>\n",
       "      <td>33605-2700</td>\n",
       "      <td>8.0</td>\n",
       "    </tr>\n",
       "    <tr>\n",
       "      <th>2</th>\n",
       "      <td>3</td>\n",
       "      <td>COMPREHENSIVE SURGERY CENTER, LLC</td>\n",
       "      <td>1988 GULF TO BAY BLVD, Ste 1</td>\n",
       "      <td>CLEARWATER</td>\n",
       "      <td>FL</td>\n",
       "      <td>33765-3550</td>\n",
       "      <td>8.0</td>\n",
       "    </tr>\n",
       "    <tr>\n",
       "      <th>3</th>\n",
       "      <td>4</td>\n",
       "      <td>FRANK &amp; ADAM APPAREL LLC</td>\n",
       "      <td>13640 Wright Cir</td>\n",
       "      <td>Tampa</td>\n",
       "      <td>FL</td>\n",
       "      <td>33626-3030</td>\n",
       "      <td>12.0</td>\n",
       "    </tr>\n",
       "    <tr>\n",
       "      <th>4</th>\n",
       "      <td>5</td>\n",
       "      <td>MORENO PLUS TRANSPORT INC</td>\n",
       "      <td>8608 Huron Court unite 58</td>\n",
       "      <td>Tampa</td>\n",
       "      <td>FL</td>\n",
       "      <td>33614</td>\n",
       "      <td>8.0</td>\n",
       "    </tr>\n",
       "  </tbody>\n",
       "</table>\n",
       "</div>"
      ],
      "text/plain": [
       "   business_id                               name   \n",
       "0            1              SOURINI PAINTING INC.  \\\n",
       "1            2               WOLFF DOLLA BILL LLC   \n",
       "2            3  COMPREHENSIVE SURGERY CENTER, LLC   \n",
       "3            4           FRANK & ADAM APPAREL LLC   \n",
       "4            5          MORENO PLUS TRANSPORT INC   \n",
       "\n",
       "                        address        city state    zip_code  size  \n",
       "0               12800 44th St N  Clearwater    FL  33762-4726  11.0  \n",
       "1               1905 E 19th Ave       Tampa    FL  33605-2700   8.0  \n",
       "2  1988 GULF TO BAY BLVD, Ste 1  CLEARWATER    FL  33765-3550   8.0  \n",
       "3              13640 Wright Cir       Tampa    FL  33626-3030  12.0  \n",
       "4     8608 Huron Court unite 58       Tampa    FL       33614   8.0  "
      ]
     },
     "execution_count": 4,
     "metadata": {},
     "output_type": "execute_result"
    }
   ],
   "source": [
    "right_df.head()"
   ]
  },
  {
   "cell_type": "code",
   "execution_count": 5,
   "id": "34d01794",
   "metadata": {},
   "outputs": [
    {
     "name": "stdout",
     "output_type": "stream",
     "text": [
      "<class 'pandas.core.frame.DataFrame'>\n",
      "RangeIndex: 94585 entries, 0 to 94584\n",
      "Data columns (total 7 columns):\n",
      " #   Column       Non-Null Count  Dtype  \n",
      "---  ------       --------------  -----  \n",
      " 0   entity_id    94585 non-null  int64  \n",
      " 1   name         94585 non-null  object \n",
      " 2   address      91787 non-null  object \n",
      " 3   city         94585 non-null  object \n",
      " 4   state        94585 non-null  object \n",
      " 5   postal_code  94548 non-null  float64\n",
      " 6   categories   94523 non-null  object \n",
      "dtypes: float64(1), int64(1), object(5)\n",
      "memory usage: 5.1+ MB\n"
     ]
    }
   ],
   "source": [
    "left_df.info()"
   ]
  },
  {
   "cell_type": "code",
   "execution_count": 6,
   "id": "cc241502",
   "metadata": {},
   "outputs": [
    {
     "name": "stdout",
     "output_type": "stream",
     "text": [
      "<class 'pandas.core.frame.DataFrame'>\n",
      "RangeIndex: 91791 entries, 0 to 91790\n",
      "Data columns (total 7 columns):\n",
      " #   Column       Non-Null Count  Dtype  \n",
      "---  ------       --------------  -----  \n",
      " 0   business_id  91791 non-null  int64  \n",
      " 1   name         91791 non-null  object \n",
      " 2   address      91791 non-null  object \n",
      " 3   city         91791 non-null  object \n",
      " 4   state        91791 non-null  object \n",
      " 5   zip_code     91791 non-null  object \n",
      " 6   size         91791 non-null  float64\n",
      "dtypes: float64(1), int64(1), object(5)\n",
      "memory usage: 4.9+ MB\n"
     ]
    }
   ],
   "source": [
    "right_df.info()"
   ]
  },
  {
   "cell_type": "code",
   "execution_count": 7,
   "id": "54bc8d94",
   "metadata": {},
   "outputs": [
    {
     "data": {
      "text/plain": [
       "Index(['entity_id', 'name', 'address', 'city', 'state', 'postal_code',\n",
       "       'categories'],\n",
       "      dtype='object')"
      ]
     },
     "execution_count": 7,
     "metadata": {},
     "output_type": "execute_result"
    }
   ],
   "source": [
    "left_df.columns"
   ]
  },
  {
   "cell_type": "code",
   "execution_count": 8,
   "id": "c1806ac7",
   "metadata": {},
   "outputs": [
    {
     "data": {
      "text/plain": [
       "Index(['business_id', 'name', 'address', 'city', 'state', 'zip_code', 'size'], dtype='object')"
      ]
     },
     "execution_count": 8,
     "metadata": {},
     "output_type": "execute_result"
    }
   ],
   "source": [
    "right_df.columns"
   ]
  },
  {
   "cell_type": "markdown",
   "id": "802927e7",
   "metadata": {},
   "source": [
    "### Data Visualization"
   ]
  },
  {
   "cell_type": "markdown",
   "id": "e1342017",
   "metadata": {},
   "source": [
    "#### Top 10 categories in major cities of the left dataset"
   ]
  },
  {
   "cell_type": "code",
   "execution_count": 9,
   "id": "cbf469db",
   "metadata": {},
   "outputs": [
    {
     "data": {
      "image/png": "[encoded data removed]",
      "text/plain": [
       "<Figure size 1200x800 with 1 Axes>"
      ]
     },
     "metadata": {},
     "output_type": "display_data"
    }
   ],
   "source": [
    "# Split categories column\n",
    "categories = left_df['categories'].str.split(', ', expand=True)\n",
    "categories['state'] = left_df['state']\n",
    "\n",
    "# Melt categories DataFrame and drop unnecessary columns\n",
    "categories_melted = categories.melt(id_vars='state', value_name='category')\n",
    "categories_melted.drop(columns='variable', inplace=True)\n",
    "categories_melted.dropna(subset=['category'], inplace=True)\n",
    "\n",
    "# Group and count occurrences of each category in each state\n",
    "state_category_counts = categories_melted.groupby(['state', 'category']).size().unstack()\n",
    "\n",
    "# Calculate top 10 categories and filter the counts DataFrame\n",
    "top_categories = state_category_counts.sum().sort_values(ascending=False)[:10].index\n",
    "state_category_counts = state_category_counts.filter(top_categories, axis=1)\n",
    "\n",
    "# Create a stacked bar plot\n",
    "state_category_counts.plot(kind='bar', stacked=True, figsize=(12, 8))\n",
    "plt.title('State vs Top 10 Categories in Left Dataset')\n",
    "plt.xlabel('State')\n",
    "plt.ylabel('Count')\n",
    "plt.show()"
   ]
  },
  {
   "cell_type": "markdown",
   "id": "bae8e249",
   "metadata": {},
   "source": [
    "#### Number of entities in top 10 cities of the left dataset"
   ]
  },
  {
   "cell_type": "code",
   "execution_count": 10,
   "id": "6cae6c36",
   "metadata": {},
   "outputs": [
    {
     "data": {
      "image/png": "[encoded data removed]",
      "text/plain": [
       "<Figure size 1000x600 with 1 Axes>"
      ]
     },
     "metadata": {},
     "output_type": "display_data"
    }
   ],
   "source": [
    "# Count number of entities in each city in the left dataset\n",
    "city_counts = left_df.groupby('city').count()['entity_id']\n",
    "\n",
    "# Get top 10 cities with highest counts\n",
    "top_cities = city_counts.nlargest(10).index.tolist()\n",
    "\n",
    "# Create DataFrame with city and entity names for top 10 cities\n",
    "top_entities = left_df[left_df['city'].isin(top_cities)][['city', 'name']]\n",
    "\n",
    "# Create and customize bar chart for top 10 cities\n",
    "fig, ax = plt.subplots(figsize=(10, 6))\n",
    "city_counts[top_cities].plot(kind='bar', ax=ax)\n",
    "ax.set_title('Number of Entities in Top 10 Cities in Left Dataset')\n",
    "ax.set_xlabel('City')\n",
    "ax.set_ylabel('Number of Entities')\n",
    "\n",
    "# Display bar chart\n",
    "plt.show()"
   ]
  },
  {
   "cell_type": "markdown",
   "id": "fba956c6",
   "metadata": {},
   "source": [
    "#### Average business size in major cities of the right dataset"
   ]
  },
  {
   "cell_type": "code",
   "execution_count": 11,
   "id": "19085d5d",
   "metadata": {},
   "outputs": [
    {
     "data": {
      "image/png": "[encoded data removed]",
      "text/plain": [
       "<Figure size 1200x800 with 1 Axes>"
      ]
     },
     "metadata": {},
     "output_type": "display_data"
    }
   ],
   "source": [
    "# Group by state and calculate average business size for each state\n",
    "state_size = right_df.groupby('state')['size'].agg(['mean'])\n",
    "\n",
    "# Create bar plot of average business size per state\n",
    "state_size.plot(kind='bar', figsize=(12, 8))\n",
    "\n",
    "# Set plot title and axis labels\n",
    "plt.title('State vs Avg Business Size in Right Dataset')\n",
    "plt.xlabel('State')\n",
    "plt.ylabel('Size')\n",
    "\n",
    "# Display plot\n",
    "plt.show()"
   ]
  },
  {
   "cell_type": "markdown",
   "id": "63e049ad",
   "metadata": {},
   "source": [
    "#### Top 10 cities in both datasets"
   ]
  },
  {
   "cell_type": "code",
   "execution_count": 12,
   "id": "fb82b01d",
   "metadata": {},
   "outputs": [
    {
     "data": {
      "image/png": "[encoded data removed]",
      "text/plain": [
       "<Figure size 1000x600 with 1 Axes>"
      ]
     },
     "metadata": {},
     "output_type": "display_data"
    }
   ],
   "source": [
    "# Get top 5 cities for both datasets\n",
    "left_cities = left_df['city'].value_counts().head(5)\n",
    "right_cities = right_df['city'].value_counts().head(5)\n",
    "\n",
    "# Create a new plot with custom size\n",
    "fig, ax = plt.subplots(figsize=(10, 6))\n",
    "\n",
    "# Plot top 5 cities for left and right datasets as bar charts\n",
    "ax.bar(left_cities.index, left_cities.values, label='Left Dataset')\n",
    "ax.bar(right_cities.index, right_cities.values, label='Right Dataset')\n",
    "\n",
    "# Set labels for axes and title\n",
    "ax.set_xlabel('City')\n",
    "ax.set_ylabel('Number of Businesses')\n",
    "ax.set_title('Top 10 Cities in Both Datasets')\n",
    "\n",
    "# Add legend and display plot\n",
    "ax.legend()\n",
    "plt.show()"
   ]
  },
  {
   "cell_type": "markdown",
   "id": "1dcf780f",
   "metadata": {},
   "source": [
    "### Data Preparation"
   ]
  },
  {
   "cell_type": "code",
   "execution_count": 13,
   "id": "efeefbd0",
   "metadata": {},
   "outputs": [],
   "source": [
    "# Keep only id, name, address, and zip code columns in the datasets\n",
    "left_df = left_df[['entity_id', 'name', 'address', 'postal_code']]\n",
    "right_df = right_df[['business_id', 'name', 'address', 'zip_code']]"
   ]
  },
  {
   "cell_type": "markdown",
   "id": "e6a75839",
   "metadata": {},
   "source": [
    "#### Merge company name, address, and zip code for fuzzy matching"
   ]
  },
  {
   "cell_type": "code",
   "execution_count": 14,
   "id": "fa55c26d",
   "metadata": {},
   "outputs": [],
   "source": [
    "# Ensure name and address columns in both datasets are strings\n",
    "left_df['name'] = left_df['name'].astype(str)\n",
    "left_df['address'] = left_df['address'].astype(str)\n",
    "\n",
    "right_df['name'] = right_df['name'].astype(str)\n",
    "right_df['address'] = right_df['address'].astype(str)"
   ]
  },
  {
   "cell_type": "code",
   "execution_count": 15,
   "id": "9159a492",
   "metadata": {},
   "outputs": [],
   "source": [
    "# Replace missing values in the postal_code column of left database with 0\n",
    "left_df['postal_code'] = left_df['postal_code'].fillna(0)\n",
    "\n",
    "# Convert the postal_code column data type to integer,\n",
    "# then to string to remove any decimal places\n",
    "left_df['postal_code'] = left_df['postal_code'].astype(int).astype(str)\n",
    "\n",
    "# Replace any '0' values in the postal_code column with an empty string\n",
    "left_df['postal_code'] = left_df['postal_code'].replace('0', '')\n",
    "\n",
    "# Convert the zip_code column data type to string in right database\n",
    "right_df['zip_code'] = right_df['zip_code'].astype(str)"
   ]
  },
  {
   "cell_type": "code",
   "execution_count": 16,
   "id": "11d7639f",
   "metadata": {},
   "outputs": [],
   "source": [
    "# Combine name, address, and postal/zip code columns as a new column info\n",
    "left_df['info'] = left_df['name'] + ' ' + left_df['address'] + ' ' + left_df['postal_code']\n",
    "right_df['info'] = right_df['name'] + ' ' + right_df['address'] + ' ' + right_df['zip_code']\n",
    "\n",
    "# Drop original columns\n",
    "left_df = left_df.drop(columns=['name', 'address', 'postal_code'])\n",
    "right_df = right_df.drop(columns=['name', 'address', 'zip_code'])"
   ]
  },
  {
   "cell_type": "code",
   "execution_count": 17,
   "id": "349f8719",
   "metadata": {},
   "outputs": [
    {
     "data": {
      "text/plain": [
       "'The UPS Store 87 Grasso Plaza Shopping Center 63123'"
      ]
     },
     "execution_count": 17,
     "metadata": {},
     "output_type": "execute_result"
    }
   ],
   "source": [
    "left_df.loc[0, 'info']"
   ]
  },
  {
   "cell_type": "markdown",
   "id": "a8f56d30",
   "metadata": {},
   "source": [
    "#### Rename id columns and add a prefix ('L', 'R') to id values"
   ]
  },
  {
   "cell_type": "code",
   "execution_count": 18,
   "id": "7fc4016c",
   "metadata": {},
   "outputs": [],
   "source": [
    "# Rename id columns in both datasets\n",
    "left_df = left_df.rename(columns={'entity_id': 'id'})\n",
    "right_df = right_df.rename(columns={'business_id': 'id'})"
   ]
  },
  {
   "cell_type": "code",
   "execution_count": 19,
   "id": "f8b4b561",
   "metadata": {},
   "outputs": [],
   "source": [
    "# Add a prefix ('L', 'R') to id values\n",
    "left_df['id'] = left_df['id'].apply(lambda x: 'L' + str(x))\n",
    "right_df['id'] = right_df['id'].apply(lambda x: 'R' + str(x))"
   ]
  },
  {
   "cell_type": "markdown",
   "id": "338f1dc0",
   "metadata": {},
   "source": [
    "#### Concatenate left and right datasets"
   ]
  },
  {
   "cell_type": "code",
   "execution_count": 20,
   "id": "1417676c",
   "metadata": {},
   "outputs": [
    {
     "data": {
      "text/plain": [
       "(186376, 2)"
      ]
     },
     "execution_count": 20,
     "metadata": {},
     "output_type": "execute_result"
    }
   ],
   "source": [
    "df = pd.concat([left_df, right_df])\n",
    "df.shape"
   ]
  },
  {
   "cell_type": "code",
   "execution_count": 21,
   "id": "ca57bd8b",
   "metadata": {},
   "outputs": [],
   "source": [
    "df = df.reset_index(drop=True) # reset index"
   ]
  },
  {
   "cell_type": "code",
   "execution_count": 22,
   "id": "42fa8e0b",
   "metadata": {},
   "outputs": [
    {
     "data": {
      "text/html": [
       "<div>\n",
       "<style scoped>\n",
       "    .dataframe tbody tr th:only-of-type {\n",
       "        vertical-align: middle;\n",
       "    }\n",
       "\n",
       "    .dataframe tbody tr th {\n",
       "        vertical-align: top;\n",
       "    }\n",
       "\n",
       "    .dataframe thead th {\n",
       "        text-align: right;\n",
       "    }\n",
       "</style>\n",
       "<table border=\"1\" class=\"dataframe\">\n",
       "  <thead>\n",
       "    <tr style=\"text-align: right;\">\n",
       "      <th></th>\n",
       "      <th>id</th>\n",
       "      <th>info</th>\n",
       "    </tr>\n",
       "  </thead>\n",
       "  <tbody>\n",
       "    <tr>\n",
       "      <th>186371</th>\n",
       "      <td>R91787</td>\n",
       "      <td>DEH TRANSPORT LLC 737 E Statue Ct 37067-5637</td>\n",
       "    </tr>\n",
       "    <tr>\n",
       "      <th>186372</th>\n",
       "      <td>R91788</td>\n",
       "      <td>TM INC. LLC 4911 Georgia Ave 37209-2135</td>\n",
       "    </tr>\n",
       "    <tr>\n",
       "      <th>186373</th>\n",
       "      <td>R91789</td>\n",
       "      <td>PASSION TRANSPORTATION SERVICES, LLC 2005 QUAI...</td>\n",
       "    </tr>\n",
       "    <tr>\n",
       "      <th>186374</th>\n",
       "      <td>R91790</td>\n",
       "      <td>ROSIE CLEANING SERVICE/COMMERCIAL 705 N 9TH ST...</td>\n",
       "    </tr>\n",
       "    <tr>\n",
       "      <th>186375</th>\n",
       "      <td>R91791</td>\n",
       "      <td>THE AQUADUCKS LLC 128 Gordon Ter 37207-4534</td>\n",
       "    </tr>\n",
       "  </tbody>\n",
       "</table>\n",
       "</div>"
      ],
      "text/plain": [
       "            id                                               info\n",
       "186371  R91787       DEH TRANSPORT LLC 737 E Statue Ct 37067-5637\n",
       "186372  R91788            TM INC. LLC 4911 Georgia Ave 37209-2135\n",
       "186373  R91789  PASSION TRANSPORTATION SERVICES, LLC 2005 QUAI...\n",
       "186374  R91790  ROSIE CLEANING SERVICE/COMMERCIAL 705 N 9TH ST...\n",
       "186375  R91791        THE AQUADUCKS LLC 128 Gordon Ter 37207-4534"
      ]
     },
     "execution_count": 22,
     "metadata": {},
     "output_type": "execute_result"
    }
   ],
   "source": [
    "df.tail()"
   ]
  },
  {
   "cell_type": "markdown",
   "id": "534456dc",
   "metadata": {},
   "source": [
    "#### Apply the text preparation function to the dataset"
   ]
  },
  {
   "cell_type": "code",
   "execution_count": 23,
   "id": "b2aa08f0",
   "metadata": {},
   "outputs": [],
   "source": [
    "df['info'] = df['info'].apply(lambda x: functions.text_prepare(x))"
   ]
  },
  {
   "cell_type": "markdown",
   "id": "a7b19da1",
   "metadata": {},
   "source": [
    "### Fuzzy Matching"
   ]
  },
  {
   "cell_type": "markdown",
   "id": "223bfab6",
   "metadata": {},
   "source": [
    "#### Transform text to vectors with TF-IDF"
   ]
  },
  {
   "cell_type": "code",
   "execution_count": 24,
   "id": "d37f649c",
   "metadata": {},
   "outputs": [
    {
     "name": "stdout",
     "output_type": "stream",
     "text": [
      "  (0, 46553)\t0.279900067332226\n",
      "  (0, 42290)\t0.3233610918840523\n",
      "  (0, 15226)\t0.36726801078894605\n",
      "  (0, 51319)\t0.2605078738018117\n",
      "  (0, 50234)\t0.2605078738018117\n",
      "  (0, 12914)\t0.2420376523395954\n",
      "  (0, 21629)\t0.15573980122328396\n",
      "  (0, 46552)\t0.25000524002294416\n",
      "  (0, 42273)\t0.2203304311023969\n",
      "  (0, 28692)\t0.3422287437786501\n",
      "  (0, 15225)\t0.32686102392659044\n",
      "  (0, 48602)\t0.20684483861364997\n",
      "  (0, 51317)\t0.25887918337300836\n",
      "  (0, 49911)\t0.1372296235116693\n"
     ]
    }
   ],
   "source": [
    "from sklearn.feature_extraction.text import TfidfVectorizer\n",
    "\n",
    "# Initialize TfidfVectorizer\n",
    "tfidf_vectorizer = TfidfVectorizer(ngram_range=(1,2), max_df=0.9, min_df=5, token_pattern='(\\S+)')\n",
    "\n",
    "# Create a TF-IDF matrix for the info column\n",
    "tf_idf_matrix = tfidf_vectorizer.fit_transform(df['info'])\n",
    "\n",
    "# Check the vectors\n",
    "print(tf_idf_matrix[0])"
   ]
  },
  {
   "cell_type": "markdown",
   "id": "a8cc1ca0",
   "metadata": {},
   "source": [
    "#### Compute cosine similarity"
   ]
  },
  {
   "cell_type": "code",
   "execution_count": 25,
   "id": "8b2f8f5a",
   "metadata": {},
   "outputs": [
    {
     "name": "stdout",
     "output_type": "stream",
     "text": [
      "finished in: 42.55988693237305 seconds\n"
     ]
    }
   ],
   "source": [
    "import time\n",
    "start_time = time.time()\n",
    "\n",
    "# adjust lower bound: 0.8\n",
    "# keep top 100000 similar results\n",
    "matches = functions.awesome_cossim_top(tf_idf_matrix, tf_idf_matrix.transpose(), 100000, 0.8)\n",
    "\n",
    "end_time = time.time()\n",
    "t = end_time - start_time\n",
    "print(\"finished in:\", t, \"seconds\")"
   ]
  },
  {
   "cell_type": "markdown",
   "id": "3d603959",
   "metadata": {},
   "source": [
    "#### Create a match table to show the similarity scores"
   ]
  },
  {
   "cell_type": "code",
   "execution_count": 26,
   "id": "4269d8c5",
   "metadata": {},
   "outputs": [
    {
     "data": {
      "text/html": [
       "<div>\n",
       "<style scoped>\n",
       "    .dataframe tbody tr th:only-of-type {\n",
       "        vertical-align: middle;\n",
       "    }\n",
       "\n",
       "    .dataframe tbody tr th {\n",
       "        vertical-align: top;\n",
       "    }\n",
       "\n",
       "    .dataframe thead th {\n",
       "        text-align: right;\n",
       "    }\n",
       "</style>\n",
       "<table border=\"1\" class=\"dataframe\">\n",
       "  <thead>\n",
       "    <tr style=\"text-align: right;\">\n",
       "      <th></th>\n",
       "      <th>left_dataset</th>\n",
       "      <th>right_dataset</th>\n",
       "      <th>confidence_score</th>\n",
       "    </tr>\n",
       "  </thead>\n",
       "  <tbody>\n",
       "    <tr>\n",
       "      <th>80026</th>\n",
       "      <td>L64337</td>\n",
       "      <td>R81164</td>\n",
       "      <td>0.814611</td>\n",
       "    </tr>\n",
       "    <tr>\n",
       "      <th>31518</th>\n",
       "      <td>L25188</td>\n",
       "      <td>R67847</td>\n",
       "      <td>0.880651</td>\n",
       "    </tr>\n",
       "    <tr>\n",
       "      <th>17364</th>\n",
       "      <td>L13994</td>\n",
       "      <td>R75526</td>\n",
       "      <td>0.876206</td>\n",
       "    </tr>\n",
       "    <tr>\n",
       "      <th>70842</th>\n",
       "      <td>L56837</td>\n",
       "      <td>R7796</td>\n",
       "      <td>0.823548</td>\n",
       "    </tr>\n",
       "    <tr>\n",
       "      <th>28566</th>\n",
       "      <td>L22813</td>\n",
       "      <td>R90327</td>\n",
       "      <td>0.932988</td>\n",
       "    </tr>\n",
       "    <tr>\n",
       "      <th>2676</th>\n",
       "      <td>L2196</td>\n",
       "      <td>R7796</td>\n",
       "      <td>0.848559</td>\n",
       "    </tr>\n",
       "    <tr>\n",
       "      <th>58688</th>\n",
       "      <td>L47088</td>\n",
       "      <td>R44158</td>\n",
       "      <td>0.806891</td>\n",
       "    </tr>\n",
       "    <tr>\n",
       "      <th>59860</th>\n",
       "      <td>L48036</td>\n",
       "      <td>R7845</td>\n",
       "      <td>0.852445</td>\n",
       "    </tr>\n",
       "    <tr>\n",
       "      <th>26501</th>\n",
       "      <td>L21190</td>\n",
       "      <td>R12310</td>\n",
       "      <td>0.818116</td>\n",
       "    </tr>\n",
       "    <tr>\n",
       "      <th>91652</th>\n",
       "      <td>L73468</td>\n",
       "      <td>R51620</td>\n",
       "      <td>0.922159</td>\n",
       "    </tr>\n",
       "  </tbody>\n",
       "</table>\n",
       "</div>"
      ],
      "text/plain": [
       "      left_dataset right_dataset  confidence_score\n",
       "80026       L64337        R81164          0.814611\n",
       "31518       L25188        R67847          0.880651\n",
       "17364       L13994        R75526          0.876206\n",
       "70842       L56837         R7796          0.823548\n",
       "28566       L22813        R90327          0.932988\n",
       "2676         L2196         R7796          0.848559\n",
       "58688       L47088        R44158          0.806891\n",
       "59860       L48036         R7845          0.852445\n",
       "26501       L21190        R12310          0.818116\n",
       "91652       L73468        R51620          0.922159"
      ]
     },
     "execution_count": 26,
     "metadata": {},
     "output_type": "execute_result"
    }
   ],
   "source": [
    "# Initialize match table as an empty DataFrame\n",
    "matches_df = pd.DataFrame()\n",
    "\n",
    "# Populate match table\n",
    "matches_df = functions.get_matches_df(matches, df['id'], top=100000)\n",
    "\n",
    "# Select only matches from different datasets\n",
    "matches_df = matches_df[matches_df['left_dataset'].str.startswith('L') & matches_df['right_dataset'].str.startswith('R')] \n",
    "\n",
    "# Check random samples from the match table\n",
    "matches_df.sample(10)"
   ]
  },
  {
   "cell_type": "code",
   "execution_count": 27,
   "id": "d9154fb2",
   "metadata": {},
   "outputs": [
    {
     "data": {
      "text/html": [
       "<div>\n",
       "<style scoped>\n",
       "    .dataframe tbody tr th:only-of-type {\n",
       "        vertical-align: middle;\n",
       "    }\n",
       "\n",
       "    .dataframe tbody tr th {\n",
       "        vertical-align: top;\n",
       "    }\n",
       "\n",
       "    .dataframe thead th {\n",
       "        text-align: right;\n",
       "    }\n",
       "</style>\n",
       "<table border=\"1\" class=\"dataframe\">\n",
       "  <thead>\n",
       "    <tr style=\"text-align: right;\">\n",
       "      <th></th>\n",
       "      <th>left_dataset</th>\n",
       "      <th>right_dataset</th>\n",
       "      <th>confidence_score</th>\n",
       "    </tr>\n",
       "  </thead>\n",
       "  <tbody>\n",
       "    <tr>\n",
       "      <th>1415</th>\n",
       "      <td>30973</td>\n",
       "      <td>7101</td>\n",
       "      <td>0.829984</td>\n",
       "    </tr>\n",
       "    <tr>\n",
       "      <th>3422</th>\n",
       "      <td>78099</td>\n",
       "      <td>24358</td>\n",
       "      <td>0.815696</td>\n",
       "    </tr>\n",
       "    <tr>\n",
       "      <th>2177</th>\n",
       "      <td>49309</td>\n",
       "      <td>6473</td>\n",
       "      <td>0.885619</td>\n",
       "    </tr>\n",
       "    <tr>\n",
       "      <th>940</th>\n",
       "      <td>20925</td>\n",
       "      <td>21577</td>\n",
       "      <td>0.913664</td>\n",
       "    </tr>\n",
       "    <tr>\n",
       "      <th>432</th>\n",
       "      <td>9648</td>\n",
       "      <td>24397</td>\n",
       "      <td>0.850772</td>\n",
       "    </tr>\n",
       "    <tr>\n",
       "      <th>952</th>\n",
       "      <td>21130</td>\n",
       "      <td>2413</td>\n",
       "      <td>0.812412</td>\n",
       "    </tr>\n",
       "    <tr>\n",
       "      <th>673</th>\n",
       "      <td>14771</td>\n",
       "      <td>13614</td>\n",
       "      <td>0.846505</td>\n",
       "    </tr>\n",
       "    <tr>\n",
       "      <th>2594</th>\n",
       "      <td>59081</td>\n",
       "      <td>40904</td>\n",
       "      <td>0.828667</td>\n",
       "    </tr>\n",
       "    <tr>\n",
       "      <th>1132</th>\n",
       "      <td>24414</td>\n",
       "      <td>68228</td>\n",
       "      <td>0.829399</td>\n",
       "    </tr>\n",
       "    <tr>\n",
       "      <th>2123</th>\n",
       "      <td>48036</td>\n",
       "      <td>15285</td>\n",
       "      <td>0.852445</td>\n",
       "    </tr>\n",
       "  </tbody>\n",
       "</table>\n",
       "</div>"
      ],
      "text/plain": [
       "     left_dataset right_dataset  confidence_score\n",
       "1415        30973          7101          0.829984\n",
       "3422        78099         24358          0.815696\n",
       "2177        49309          6473          0.885619\n",
       "940         20925         21577          0.913664\n",
       "432          9648         24397          0.850772\n",
       "952         21130          2413          0.812412\n",
       "673         14771         13614          0.846505\n",
       "2594        59081         40904          0.828667\n",
       "1132        24414         68228          0.829399\n",
       "2123        48036         15285          0.852445"
      ]
     },
     "execution_count": 27,
     "metadata": {},
     "output_type": "execute_result"
    }
   ],
   "source": [
    "# Remove prefix\n",
    "matches_df['left_dataset'] = matches_df['left_dataset'].apply(lambda x: x.replace('L', ''))\n",
    "matches_df['right_dataset'] = matches_df['right_dataset'].apply(lambda x: x.replace('R', ''))\n",
    "\n",
    "# Reset index\n",
    "matches_df = matches_df.reset_index(drop=True)\n",
    "\n",
    "# Check random samples from the match table\n",
    "matches_df.sample(10)"
   ]
  },
  {
   "cell_type": "code",
   "execution_count": 28,
   "id": "f9488068",
   "metadata": {},
   "outputs": [
    {
     "name": "stdout",
     "output_type": "stream",
     "text": [
      "3508\n"
     ]
    }
   ],
   "source": [
    "# Check the number of matches\n",
    "print(matches_df.shape[0])"
   ]
  },
  {
   "cell_type": "code",
   "execution_count": 29,
   "id": "4a2526d5",
   "metadata": {},
   "outputs": [],
   "source": [
    "matches_df.to_csv('score.csv', index=False)"
   ]
  }
 ],
 "metadata": {
  "kernelspec": {
   "display_name": "Python 3 (ipykernel)",
   "language": "python",
   "name": "python3"
  },
  "language_info": {
   "codemirror_mode": {
    "name": "ipython",
    "version": 3
   },
   "file_extension": ".py",
   "mimetype": "text/x-python",
   "name": "python",
   "nbconvert_exporter": "python",
   "pygments_lexer": "ipython3",
   "version": "3.10.9"
  }
 },
 "nbformat": 4,
 "nbformat_minor": 5
}
